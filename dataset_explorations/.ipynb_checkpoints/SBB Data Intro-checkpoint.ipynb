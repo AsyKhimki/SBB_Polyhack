{
 "cells": [
  {
   "cell_type": "markdown",
   "metadata": {},
   "source": [
    "# SBB Datasets Exploration\n",
    "\n",
    "This notebook contains the initial exporation of potential datasets and functionalities extract relevant information\n",
    "\n",
    "\n",
    "Data Sources:\n",
    "1. Railway network\n",
    "2. Construction sites\n",
    "3. Extra trains\n",
    "4. Capacity of the operating point section\n",
    "\n",
    "Other sources\n",
    "1. [More general](https://opendata.swiss/en/dataset?q=SBB)\n",
    "\n",
    "TODO: \n",
    "1. visualize mock.points in the map\n",
    "2. work with json format"
   ]
  },
  {
   "cell_type": "code",
   "execution_count": 27,
   "metadata": {},
   "outputs": [],
   "source": [
    "import numpy as np\n",
    "import pandas as pd\n",
    "\n",
    "import json\n",
    "import geopandas as gpd\n",
    "\n",
    "time_fmt = \"%Y-%m-%d\""
   ]
  },
  {
   "cell_type": "markdown",
   "metadata": {},
   "source": [
    "## Section 1: looking at Geojson\n",
    "\n",
    "*Useful links*\n",
    "1. [geopandas](https://www.twilio.com/blog/2017/08/geospatial-analysis-python-geojson-geopandas.html)"
   ]
  },
  {
   "cell_type": "code",
   "execution_count": 44,
   "metadata": {},
   "outputs": [
    {
     "name": "stdout",
     "output_type": "stream",
     "text": [
      "Number of observations: 3023, Number of attributes 11\n",
      "Attributes:\n",
      "['bp_end_bez' 'bp_ende' 'spurweite' 'bp_anf_bez' 'geo_point_2d'\n",
      " 'liniename' 'linienr' 'km_agm_von' 'km_agm_bis' 'bp_anfang' 'geometry']\n"
     ]
    }
   ],
   "source": [
    "import geopandas as gpd\n",
    "\n",
    "sbb_plan = gpd.read_file('linie-mit-polygon.geojson')\n",
    "\n",
    "len_df = len(sbb_plan)\n",
    "ncol = len(sbb_plan.columns.values)\n",
    "\n",
    "print(f\"Number of observations: {len_df}, Number of attributes {ncol}\\nAttributes:\\n{sbb_plan.columns.values}\")"
   ]
  },
  {
   "cell_type": "code",
   "execution_count": 38,
   "metadata": {},
   "outputs": [
    {
     "name": "stdout",
     "output_type": "stream",
     "text": [
      "                bp_end_bez bp_ende spurweite     bp_anf_bez  \\\n",
      "0                   Gonten    GONT         M      Jakobsbad   \n",
      "1               Tägerschen    TAEN         N     Bettwiesen   \n",
      "2       Tobel-Affeltrangen     TOA         N     Tägerschen   \n",
      "3             Walzenhausen    WALZ         S      Ruderbach   \n",
      "4  Schwarzenburg Gleisende    SCGE         N  Schwarzenburg   \n",
      "\n",
      "                                  geo_point_2d  \\\n",
      "0  {'lat': 47.3227434513, 'lon': 9.3384392062}   \n",
      "1  {'lat': 47.5043491938, 'lon': 9.0218500787}   \n",
      "2  {'lat': 47.5158011135, 'lon': 9.0286578485}   \n",
      "3  {'lat': 47.4564341505, 'lon': 9.5982793517}   \n",
      "4  {'lat': 46.8188865938, 'lon': 7.3418148774}   \n",
      "\n",
      "                             liniename  linienr  km_agm_von  km_agm_bis  \\\n",
      "0               Gossau SG - Wasserauen      854   19018.335   20861.893   \n",
      "1                     Wil - Weinfelden      830    5450.482    6714.256   \n",
      "2                     Wil - Weinfelden      830    6714.256    8224.717   \n",
      "3              Rheineck - Walzenhausen      858     706.629    1945.500   \n",
      "4  Bern Fischermätteli - Schwarzenburg      297   20864.981   20989.262   \n",
      "\n",
      "  bp_anfang                                           geometry  \n",
      "0       JAK  LINESTRING (9.32818 47.32005, 9.32831 47.32006...  \n",
      "1       BTW  LINESTRING (9.02078 47.49862, 9.02078 47.49871...  \n",
      "2      TAEN  LINESTRING (9.02479 47.50936, 9.02486 47.50944...  \n",
      "3      RUDB  LINESTRING (9.59520 47.46160, 9.59525 47.46152...  \n",
      "4      SCBG  LINESTRING (7.34256 46.81911, 7.34244 46.81907...  \n"
     ]
    }
   ],
   "source": [
    "print(sbb_plan.head())"
   ]
  },
  {
   "cell_type": "code",
   "execution_count": 55,
   "metadata": {},
   "outputs": [
    {
     "data": {
      "text/plain": [
       "{'lat': 47.3227434513, 'lon': 9.3384392062}"
      ]
     },
     "execution_count": 55,
     "metadata": {},
     "output_type": "execute_result"
    }
   ],
   "source": [
    "sbb_plan[\"geo_point_2d\"][0]"
   ]
  },
  {
   "cell_type": "markdown",
   "metadata": {},
   "source": [
    "**Working with a `LineStrin` object**\n",
    "\n",
    "See: [LineString](https://shapely.readthedocs.io/en/stable/manual.html)"
   ]
  },
  {
   "cell_type": "code",
   "execution_count": 59,
   "metadata": {},
   "outputs": [
    {
     "data": {
      "text/plain": [
       "'LineString'"
      ]
     },
     "execution_count": 59,
     "metadata": {},
     "output_type": "execute_result"
    }
   ],
   "source": [
    "sbb_plan[\"geometry\"][0].geom_type"
   ]
  },
  {
   "cell_type": "code",
   "execution_count": 68,
   "metadata": {},
   "outputs": [
    {
     "data": {
      "text/plain": [
       "(9.3281821136, 47.320047544, 9.3474044154, 47.3281388816)"
      ]
     },
     "execution_count": 68,
     "metadata": {},
     "output_type": "execute_result"
    }
   ],
   "source": [
    "sbb_plan[\"geometry\"][0].length\n",
    "sbb_plan[\"geometry\"][0].area\n",
    "len(sbb_plan[\"geometry\"][0].coords)\n",
    "sbb_plan[\"geometry\"][0].bounds"
   ]
  },
  {
   "cell_type": "code",
   "execution_count": 67,
   "metadata": {},
   "outputs": [
    {
     "data": {
      "text/plain": [
       "[(9.3281821136, 47.320047544),\n",
       " (9.3283128655, 47.3200611197),\n",
       " (9.3284436178, 47.3200747042),\n",
       " (9.3285743701, 47.3200882886),\n",
       " (9.3287051222, 47.3201018638),\n",
       " (9.3288358747, 47.3201154479),\n",
       " (9.3289666272, 47.3201290318),\n",
       " (9.3290973795, 47.3201426066),\n",
       " (9.3292281322, 47.3201561902),\n",
       " (9.3293588982, 47.3201697735)]"
      ]
     },
     "execution_count": 67,
     "metadata": {},
     "output_type": "execute_result"
    }
   ],
   "source": [
    "list(sbb_plan[\"geometry\"][0].coords)[:10]"
   ]
  },
  {
   "cell_type": "code",
   "execution_count": 75,
   "metadata": {},
   "outputs": [
    {
     "data": {
      "text/plain": [
       "<matplotlib.axes._subplots.AxesSubplot at 0x7fe401426668>"
      ]
     },
     "execution_count": 75,
     "metadata": {},
     "output_type": "execute_result"
    },
    {
     "data": {
      "image/png": "[encoded data removed]",
      "text/plain": [
       "<Figure size 1080x1080 with 1 Axes>"
      ]
     },
     "metadata": {
      "needs_background": "light"
     },
     "output_type": "display_data"
    }
   ],
   "source": [
    "#plot(sbb_plan[\"geometry\"][0])\n",
    "import matplotlib.pyplot as plt\n",
    "\n",
    "fig, ax = plt.subplots(figsize=(15,15))\n",
    "sbb_plan[\"geometry\"].plot( markersize=20, ax=ax, color = 'red', label='Maintenance')"
   ]
  },
  {
   "cell_type": "markdown",
   "metadata": {},
   "source": [
    "## Section 2: json"
   ]
  },
  {
   "cell_type": "code",
   "execution_count": null,
   "metadata": {},
   "outputs": [],
   "source": []
  },
  {
   "cell_type": "code",
   "execution_count": 34,
   "metadata": {},
   "outputs": [],
   "source": [
    "filename_ops_json = \"mock_ops.json\"\n",
    "filename_line_json = \"mock_ops.json\"\n",
    "\n",
    "mock_pts = pd.read_json(filename_json)\n",
    "mock_line = pd.read_json(filename_line_json)\n",
    "\n",
    "#with open(filename_json) as f:\n",
    "#    d = json.load(f)\n",
    "#    print(d)"
   ]
  },
  {
   "cell_type": "code",
   "execution_count": 36,
   "metadata": {},
   "outputs": [],
   "source": [
    "#mock_line"
   ]
  },
  {
   "cell_type": "markdown",
   "metadata": {},
   "source": [
    "## Section 3: CSV"
   ]
  },
  {
   "cell_type": "code",
   "execution_count": 45,
   "metadata": {},
   "outputs": [
    {
     "name": "stdout",
     "output_type": "stream",
     "text": [
      "Number of observations: 463, Number of attributes 15\n",
      "Attribues\n",
      "['region' 'nom_du_projet_projektbezeichnung' 'bp_from' 'bp_to' 'km_from'\n",
      " 'km_to' 'distance' 'bemerkungen' 'date_from' 'date_to' 'weeks'\n",
      " 'umsetzung_intervalltyp_umleitung' 'reduction_capacity' 'geopos'\n",
      " 'von_bezeichnung_offiziell']\n"
     ]
    }
   ],
   "source": [
    "construct_site = pd.read_csv(\"construction-site.csv\", sep=\";\")\n",
    "\n",
    "#format datetime\n",
    "construct_site[\"date_from\"] = pd.to_datetime(construct_site[\"date_from\"], format = time_fmt)\n",
    "construct_site[\"date_to\"] = pd.to_datetime(construct_site[\"date_to\"], format = time_fmt)\n",
    "\n",
    "len_df = len(construct_site)\n",
    "ncol = len(construct_site.columns.values)\n",
    "\n",
    "print(f\"Number of observations: {len_df}, Number of attributes {ncol}\\nAttribues\\n{construct_site.columns.values}\")"
   ]
  },
  {
   "cell_type": "code",
   "execution_count": 11,
   "metadata": {},
   "outputs": [
    {
     "data": {
      "text/html": [
       "<div>\n",
       "<style scoped>\n",
       "    .dataframe tbody tr th:only-of-type {\n",
       "        vertical-align: middle;\n",
       "    }\n",
       "\n",
       "    .dataframe tbody tr th {\n",
       "        vertical-align: top;\n",
       "    }\n",
       "\n",
       "    .dataframe thead th {\n",
       "        text-align: right;\n",
       "    }\n",
       "</style>\n",
       "<table border=\"1\" class=\"dataframe\">\n",
       "  <thead>\n",
       "    <tr style=\"text-align: right;\">\n",
       "      <th></th>\n",
       "      <th>region</th>\n",
       "      <th>nom_du_projet_projektbezeichnung</th>\n",
       "      <th>bp_from</th>\n",
       "      <th>bp_to</th>\n",
       "      <th>km_from</th>\n",
       "      <th>km_to</th>\n",
       "      <th>distance</th>\n",
       "      <th>bemerkungen</th>\n",
       "      <th>date_from</th>\n",
       "      <th>date_to</th>\n",
       "      <th>weeks</th>\n",
       "      <th>umsetzung_intervalltyp_umleitung</th>\n",
       "      <th>reduction_capacity</th>\n",
       "      <th>geopos</th>\n",
       "      <th>von_bezeichnung_offiziell</th>\n",
       "    </tr>\n",
       "  </thead>\n",
       "  <tbody>\n",
       "    <tr>\n",
       "      <th>0</th>\n",
       "      <td>RWT</td>\n",
       "      <td>La Plaine : prèparation nouvelle gare</td>\n",
       "      <td>LP</td>\n",
       "      <td>LP</td>\n",
       "      <td>NaN</td>\n",
       "      <td>NaN</td>\n",
       "      <td>NaN</td>\n",
       "      <td>NaN</td>\n",
       "      <td>2024-07-15</td>\n",
       "      <td>2024-07-28</td>\n",
       "      <td>2.0</td>\n",
       "      <td>Sperre Strecke 24 Std</td>\n",
       "      <td>1.00</td>\n",
       "      <td>46.1786654048, 5.99999275337</td>\n",
       "      <td>La Plaine</td>\n",
       "    </tr>\n",
       "    <tr>\n",
       "      <th>1</th>\n",
       "      <td>RWT</td>\n",
       "      <td>RIM Vernier Meyrin Cargo - Satgny</td>\n",
       "      <td>NaN</td>\n",
       "      <td>NaN</td>\n",
       "      <td>NaN</td>\n",
       "      <td>NaN</td>\n",
       "      <td>NaN</td>\n",
       "      <td>NaN</td>\n",
       "      <td>2026-07-01</td>\n",
       "      <td>2026-08-25</td>\n",
       "      <td>8.0</td>\n",
       "      <td>Sperre Strecke 24 Std</td>\n",
       "      <td>0.50</td>\n",
       "      <td>NaN</td>\n",
       "      <td>NaN</td>\n",
       "    </tr>\n",
       "    <tr>\n",
       "      <th>2</th>\n",
       "      <td>RWT</td>\n",
       "      <td>Genève Aéroport : remise en conformité zone d'...</td>\n",
       "      <td>GEAP</td>\n",
       "      <td>CHNE</td>\n",
       "      <td>65.50</td>\n",
       "      <td>65.5</td>\n",
       "      <td>NaN</td>\n",
       "      <td>NaN</td>\n",
       "      <td>2023-10-01</td>\n",
       "      <td>2024-03-30</td>\n",
       "      <td>26.0</td>\n",
       "      <td>Sperre Strecke 24 Std</td>\n",
       "      <td>0.50</td>\n",
       "      <td>46.2171294664, 6.10260397474</td>\n",
       "      <td>Châtelaine (bif)</td>\n",
       "    </tr>\n",
       "    <tr>\n",
       "      <th>3</th>\n",
       "      <td>RWT</td>\n",
       "      <td>Genéve : assainissement du PI de la Paix</td>\n",
       "      <td>GE</td>\n",
       "      <td>GE</td>\n",
       "      <td>58.75</td>\n",
       "      <td>58.75</td>\n",
       "      <td>NaN</td>\n",
       "      <td>NaN</td>\n",
       "      <td>2023-01-01</td>\n",
       "      <td>2024-12-28</td>\n",
       "      <td>104.0</td>\n",
       "      <td>Sperre Strecke Nacht</td>\n",
       "      <td>0.25</td>\n",
       "      <td>46.2102129079, 6.14245160789</td>\n",
       "      <td>Genève</td>\n",
       "    </tr>\n",
       "    <tr>\n",
       "      <th>4</th>\n",
       "      <td>RWT</td>\n",
       "      <td>Morges - St.Prex : FbE voie 309</td>\n",
       "      <td>MOR</td>\n",
       "      <td>STP</td>\n",
       "      <td>13.10</td>\n",
       "      <td>16.6</td>\n",
       "      <td>3.5</td>\n",
       "      <td>NaN</td>\n",
       "      <td>2024-07-01</td>\n",
       "      <td>2024-07-28</td>\n",
       "      <td>4.0</td>\n",
       "      <td>Sperre Strecke 24 Std</td>\n",
       "      <td>0.50</td>\n",
       "      <td>46.4823168698, 6.45590595285</td>\n",
       "      <td>St-Prex</td>\n",
       "    </tr>\n",
       "  </tbody>\n",
       "</table>\n",
       "</div>"
      ],
      "text/plain": [
       "  region                   nom_du_projet_projektbezeichnung bp_from bp_to  \\\n",
       "0    RWT              La Plaine : prèparation nouvelle gare      LP    LP   \n",
       "1    RWT                  RIM Vernier Meyrin Cargo - Satgny     NaN   NaN   \n",
       "2    RWT  Genève Aéroport : remise en conformité zone d'...    GEAP  CHNE   \n",
       "3    RWT           Genéve : assainissement du PI de la Paix      GE    GE   \n",
       "4    RWT                    Morges - St.Prex : FbE voie 309     MOR   STP   \n",
       "\n",
       "   km_from  km_to distance bemerkungen   date_from     date_to  weeks  \\\n",
       "0      NaN    NaN      NaN         NaN  2024-07-15  2024-07-28    2.0   \n",
       "1      NaN    NaN      NaN         NaN  2026-07-01  2026-08-25    8.0   \n",
       "2    65.50   65.5      NaN         NaN  2023-10-01  2024-03-30   26.0   \n",
       "3    58.75  58.75      NaN         NaN  2023-01-01  2024-12-28  104.0   \n",
       "4    13.10   16.6      3.5         NaN  2024-07-01  2024-07-28    4.0   \n",
       "\n",
       "  umsetzung_intervalltyp_umleitung  reduction_capacity  \\\n",
       "0            Sperre Strecke 24 Std                1.00   \n",
       "1            Sperre Strecke 24 Std                0.50   \n",
       "2            Sperre Strecke 24 Std                0.50   \n",
       "3             Sperre Strecke Nacht                0.25   \n",
       "4            Sperre Strecke 24 Std                0.50   \n",
       "\n",
       "                         geopos von_bezeichnung_offiziell  \n",
       "0  46.1786654048, 5.99999275337                 La Plaine  \n",
       "1                           NaN                       NaN  \n",
       "2  46.2171294664, 6.10260397474          Châtelaine (bif)  \n",
       "3  46.2102129079, 6.14245160789                    Genève  \n",
       "4  46.4823168698, 6.45590595285                   St-Prex  "
      ]
     },
     "execution_count": 11,
     "metadata": {},
     "output_type": "execute_result"
    }
   ],
   "source": [
    "# General statistics:\n",
    "construct_site.head()"
   ]
  },
  {
   "cell_type": "code",
   "execution_count": 22,
   "metadata": {},
   "outputs": [
    {
     "data": {
      "text/html": [
       "<div>\n",
       "<style scoped>\n",
       "    .dataframe tbody tr th:only-of-type {\n",
       "        vertical-align: middle;\n",
       "    }\n",
       "\n",
       "    .dataframe tbody tr th {\n",
       "        vertical-align: top;\n",
       "    }\n",
       "\n",
       "    .dataframe thead th {\n",
       "        text-align: right;\n",
       "    }\n",
       "</style>\n",
       "<table border=\"1\" class=\"dataframe\">\n",
       "  <thead>\n",
       "    <tr style=\"text-align: right;\">\n",
       "      <th></th>\n",
       "      <th>km_from</th>\n",
       "      <th>weeks</th>\n",
       "      <th>reduction_capacity</th>\n",
       "    </tr>\n",
       "  </thead>\n",
       "  <tbody>\n",
       "    <tr>\n",
       "      <th>count</th>\n",
       "      <td>184.000000</td>\n",
       "      <td>454.000000</td>\n",
       "      <td>276.000000</td>\n",
       "    </tr>\n",
       "    <tr>\n",
       "      <th>mean</th>\n",
       "      <td>70.052902</td>\n",
       "      <td>84.162996</td>\n",
       "      <td>0.435688</td>\n",
       "    </tr>\n",
       "    <tr>\n",
       "      <th>std</th>\n",
       "      <td>49.557753</td>\n",
       "      <td>94.071247</td>\n",
       "      <td>0.238716</td>\n",
       "    </tr>\n",
       "    <tr>\n",
       "      <th>min</th>\n",
       "      <td>0.050000</td>\n",
       "      <td>1.000000</td>\n",
       "      <td>0.250000</td>\n",
       "    </tr>\n",
       "    <tr>\n",
       "      <th>25%</th>\n",
       "      <td>29.657000</td>\n",
       "      <td>15.000000</td>\n",
       "      <td>0.250000</td>\n",
       "    </tr>\n",
       "    <tr>\n",
       "      <th>50%</th>\n",
       "      <td>64.175000</td>\n",
       "      <td>52.000000</td>\n",
       "      <td>0.500000</td>\n",
       "    </tr>\n",
       "    <tr>\n",
       "      <th>75%</th>\n",
       "      <td>102.325000</td>\n",
       "      <td>100.000000</td>\n",
       "      <td>0.500000</td>\n",
       "    </tr>\n",
       "    <tr>\n",
       "      <th>max</th>\n",
       "      <td>186.908000</td>\n",
       "      <td>550.000000</td>\n",
       "      <td>1.000000</td>\n",
       "    </tr>\n",
       "  </tbody>\n",
       "</table>\n",
       "</div>"
      ],
      "text/plain": [
       "          km_from       weeks  reduction_capacity\n",
       "count  184.000000  454.000000          276.000000\n",
       "mean    70.052902   84.162996            0.435688\n",
       "std     49.557753   94.071247            0.238716\n",
       "min      0.050000    1.000000            0.250000\n",
       "25%     29.657000   15.000000            0.250000\n",
       "50%     64.175000   52.000000            0.500000\n",
       "75%    102.325000  100.000000            0.500000\n",
       "max    186.908000  550.000000            1.000000"
      ]
     },
     "execution_count": 22,
     "metadata": {},
     "output_type": "execute_result"
    }
   ],
   "source": [
    "# Summary statistics\n",
    "construct_site.describe()"
   ]
  },
  {
   "cell_type": "markdown",
   "metadata": {},
   "source": [
    "**Q:** Missing values"
   ]
  },
  {
   "cell_type": "code",
   "execution_count": 13,
   "metadata": {},
   "outputs": [
    {
     "data": {
      "text/plain": [
       "region                                0\n",
       "nom_du_projet_projektbezeichnung     16\n",
       "bp_from                               9\n",
       "bp_to                                10\n",
       "km_from                             279\n",
       "km_to                               282\n",
       "distance                             72\n",
       "bemerkungen                         197\n",
       "date_from                             8\n",
       "date_to                               4\n",
       "weeks                                 9\n",
       "umsetzung_intervalltyp_umleitung      9\n",
       "reduction_capacity                  187\n",
       "geopos                               15\n",
       "von_bezeichnung_offiziell            15\n",
       "dtype: int64"
      ]
     },
     "execution_count": 13,
     "metadata": {},
     "output_type": "execute_result"
    }
   ],
   "source": [
    "construct_site.isnull().sum()"
   ]
  },
  {
   "cell_type": "markdown",
   "metadata": {},
   "source": [
    "**Open questions**\n",
    "\n",
    "What are:\n",
    "1. bp_from / bp_to\n",
    "2. km_to / km_from"
   ]
  },
  {
   "cell_type": "code",
   "execution_count": 24,
   "metadata": {},
   "outputs": [
    {
     "data": {
      "text/plain": [
       "BEL     10\n",
       "OL       8\n",
       "KLW      5\n",
       "ZSTH     5\n",
       "BS       5\n",
       "        ..\n",
       "TOA      1\n",
       "BROA     1\n",
       "EL       1\n",
       "ERLB     1\n",
       "LU       1\n",
       "Name: bp_from, Length: 256, dtype: int64"
      ]
     },
     "execution_count": 24,
     "metadata": {},
     "output_type": "execute_result"
    }
   ],
   "source": [
    "construct_site[\"bp_from\"].value_counts()"
   ]
  },
  {
   "cell_type": "code",
   "execution_count": 25,
   "metadata": {},
   "outputs": [
    {
     "data": {
      "text/plain": [
       "GIU     10\n",
       "OL       6\n",
       "WF       5\n",
       "GD       5\n",
       "IM       5\n",
       "        ..\n",
       "SCHA     1\n",
       "DK       1\n",
       "TOA      1\n",
       "ROTS     1\n",
       "WL       1\n",
       "Name: bp_to, Length: 263, dtype: int64"
      ]
     },
     "execution_count": 25,
     "metadata": {},
     "output_type": "execute_result"
    }
   ],
   "source": [
    "construct_site[\"bp_to\"].value_counts()"
   ]
  },
  {
   "cell_type": "code",
   "execution_count": 26,
   "metadata": {},
   "outputs": [
    {
     "data": {
      "text/plain": [
       "ROT                                225\n",
       "RME                                119\n",
       "RSD                                 71\n",
       "RWT                                 47\n",
       "? : ne correspond pas à Railsys      1\n",
       "Name: region, dtype: int64"
      ]
     },
     "execution_count": 26,
     "metadata": {},
     "output_type": "execute_result"
    }
   ],
   "source": [
    "construct_site[\"region\"].value_counts() "
   ]
  },
  {
   "cell_type": "code",
   "execution_count": null,
   "metadata": {},
   "outputs": [],
   "source": []
  }
 ],
 "metadata": {
  "kernelspec": {
   "display_name": "Python 3.8 Deep Learning With Python",
   "language": "python",
   "name": "py38"
  },
  "language_info": {
   "codemirror_mode": {
    "name": "ipython",
    "version": 3
   },
   "file_extension": ".py",
   "mimetype": "text/x-python",
   "name": "python",
   "nbconvert_exporter": "python",
   "pygments_lexer": "ipython3",
   "version": "3.7.0"
  }
 },
 "nbformat": 4,
 "nbformat_minor": 4
}
